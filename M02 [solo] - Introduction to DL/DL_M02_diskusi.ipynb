{
  "nbformat": 4,
  "nbformat_minor": 0,
  "metadata": {
    "colab": {
      "provenance": []
    },
    "kernelspec": {
      "name": "python3",
      "display_name": "Python 3"
    },
    "language_info": {
      "name": "python"
    }
  },
  "cells": [
    {
      "cell_type": "code",
      "execution_count": null,
      "metadata": {
        "colab": {
          "base_uri": "https://localhost:8080/",
          "height": 656
        },
        "id": "5up4G3mwZWnE",
        "outputId": "0cb4e4e9-3320-42e8-e110-941ff6c18757"
      },
      "outputs": [
        {
          "output_type": "stream",
          "name": "stdout",
          "text": [
            "dict_keys(['data', 'target', 'frame', 'feature_names', 'target_names', 'images', 'DESCR'])\n"
          ]
        },
        {
          "output_type": "display_data",
          "data": {
            "text/plain": [
              "<Figure size 640x480 with 1 Axes>"
            ],
            "image/png": "[encoded data removed]"
          },
          "metadata": {}
        },
        {
          "output_type": "stream",
          "name": "stdout",
          "text": [
            "digit is: 0 \n",
            "\n",
            "image matrix: \n",
            "\n",
            "[[ 0.  0.  5. 13.  9.  1.  0.  0.]\n",
            " [ 0.  0. 13. 15. 10. 15.  5.  0.]\n",
            " [ 0.  3. 15.  2.  0. 11.  8.  0.]\n",
            " [ 0.  4. 12.  0.  0.  8.  8.  0.]\n",
            " [ 0.  5.  8.  0.  0.  9.  8.  0.]\n",
            " [ 0.  4. 11.  0.  1. 12.  7.  0.]\n",
            " [ 0.  2. 14.  5. 10. 12.  0.  0.]\n",
            " [ 0.  0.  6. 13. 10.  0.  0.  0.]]\n"
          ]
        }
      ],
      "source": [
        "#Load the dataset:\n",
        "import tensorflow as tf\n",
        "from sklearn.datasets import load_digits\n",
        "\n",
        "# get data\n",
        "digits = load_digits()\n",
        "# get available containers (or keys) from dataset\n",
        "print(digits.keys())\n",
        "\n",
        "# Create variables to hold data, images, targets, and target names:\n",
        "# create variables\n",
        "data = digits.data\n",
        "images = digits.images\n",
        "targets = digits.target\n",
        "target_names = digits.target_names\n",
        "\n",
        "# classification is based on 10 classes represented by digits between 0 and 9.\n",
        "# Let's visualize the first data element:\n",
        "\n",
        "# first image begins at index 0\n",
        "image = images [0]\n",
        "import matplotlib.pyplot as plt\n",
        "plt.imshow(image, cmap='binary')\n",
        "plt.show()\n",
        "\n",
        "br = \"\\n\"\n",
        "\n",
        "# Display the target value (or label) and the feature image (8 x 8 matrix) of the first image:\n",
        "# first digit begins at index 0\n",
        "target = targets[0]\n",
        "print ('digit is:', target, br)\n",
        "# image matrix of first image\n",
        "print ('image matrix:', br)\n",
        "print (image)"
      ]
    },
    {
      "cell_type": "code",
      "source": [
        "from PIL import Image\n",
        "import numpy as np\n",
        "\n",
        "image = Image.open(\"/content/love2.png\")\n",
        "target = \"love\"\n",
        "\n",
        "# classification is based on 10 classes represented by digits between 0 and 9.\n",
        "# Let's visualize the first data element:\n",
        "\n",
        "# first image begins at index 0\n",
        "import matplotlib.pyplot as plt\n",
        "plt.imshow(image, cmap='binary')\n",
        "plt.show()\n",
        "\n",
        "br = \"\\n\"\n",
        "\n",
        "# Display the target value (or label) and the feature image (8 x 8 matrix) of the first image:\n",
        "print ('label is:', target, br)\n",
        "# image matrix of first image\n",
        "print ('image matrix:', br)\n",
        "print(1 - np.asarray(image.convert('1')))"
      ],
      "metadata": {
        "colab": {
          "base_uri": "https://localhost:8080/",
          "height": 638
        },
        "id": "IGqQfOatcGB1",
        "outputId": "41e228ef-a831-4a98-eb1d-bc5175fc748a"
      },
      "execution_count": null,
      "outputs": [
        {
          "output_type": "display_data",
          "data": {
            "text/plain": [
              "<Figure size 640x480 with 1 Axes>"
            ],
            "image/png": "[encoded data removed]"
          },
          "metadata": {}
        },
        {
          "output_type": "stream",
          "name": "stdout",
          "text": [
            "label is: love \n",
            "\n",
            "image matrix: \n",
            "\n",
            "[[0 0 0 0 0 0 0 0]\n",
            " [0 1 1 0 0 1 1 0]\n",
            " [1 0 0 1 1 0 0 1]\n",
            " [1 0 0 0 0 0 0 1]\n",
            " [0 1 0 0 0 0 1 0]\n",
            " [0 0 1 0 0 1 0 0]\n",
            " [0 0 0 1 1 0 0 0]\n",
            " [0 0 0 0 0 0 0 0]]\n"
          ]
        }
      ]
    },
    {
      "cell_type": "markdown",
      "source": [
        "# Final Submission"
      ],
      "metadata": {
        "id": "GCIp0vd--Pkt"
      }
    },
    {
      "cell_type": "code",
      "source": [
        "import tensorflow as tf\n",
        "import matplotlib.pyplot as plt\n",
        "import numpy as np\n",
        "from tensorflow.image import resize\n",
        "\n",
        "# Load EMNIST Letters dataset from TensorFlow Datasets\n",
        "(train_images, train_labels), (test_images, test_labels) = tf.keras.datasets.mnist.load_data()\n",
        "\n",
        "# Resize images to a smaller size, e.g., 16x16 or 8x8 pixels\n",
        "small_train_images = np.array([resize(tf.convert_to_tensor(img[..., np.newaxis]), (10, 10)).numpy().squeeze() for img in train_images])\n",
        "# small_test_images = np.array([resize(tf.convert_to_tensor(img[..., np.newaxis]), (10, 10)).numpy().squeeze() for img in test_images])\n",
        "\n",
        "# Display the new size of the images\n",
        "print(\"Original size:\", train_images.shape)\n",
        "print(\"Resized training set shape:\", small_train_images.shape)\n",
        "\n",
        "# Visualize the first resized image (10x10)\n",
        "plt.imshow(small_train_images[19], cmap='binary')\n",
        "label = train_labels[19] - 1  # Adjust label to 0-indexed\n",
        "plt.title(f\"Label: {chr(label + ord('A'))}\")\n",
        "plt.show()\n",
        "\n",
        "# image matrix of first image\n",
        "print(\"Image matrix:\", br)\n",
        "print (small_train_images)"
      ],
      "metadata": {
        "colab": {
          "base_uri": "https://localhost:8080/",
          "height": 1000
        },
        "id": "nNtibf2qhNo3",
        "outputId": "104abea4-66fc-4f56-b2b1-969af62a0838"
      },
      "execution_count": null,
      "outputs": [
        {
          "output_type": "stream",
          "name": "stdout",
          "text": [
            "Original size: (60000, 28, 28)\n",
            "Resized training set shape: (60000, 10, 10)\n"
          ]
        },
        {
          "output_type": "display_data",
          "data": {
            "text/plain": [
              "<Figure size 640x480 with 1 Axes>"
            ],
            "image/png": "[encoded data removed]"
          },
          "metadata": {}
        },
        {
          "output_type": "stream",
          "name": "stdout",
          "text": [
            "Image matrix: \n",
            "\n",
            "[[[  0.         0.         0.       ...   0.         0.         0.      ]\n",
            "  [  0.         0.         0.       ...   0.         0.         0.      ]\n",
            "  [  0.         0.        12.25     ... 158.25      22.400024   0.      ]\n",
            "  ...\n",
            "  [  0.         0.         0.       ...   0.         0.         0.      ]\n",
            "  [  0.        55.50994  243.54999  ...   0.         0.         0.      ]\n",
            "  [  0.         0.         0.       ...   0.         0.         0.      ]]\n",
            "\n",
            " [[  0.         0.         0.       ...   0.         0.         0.      ]\n",
            "  [  0.         0.         0.       ...   0.         0.         0.      ]\n",
            "  [  0.         0.         0.       ... 109.5        0.         0.      ]\n",
            "  ...\n",
            "  [  0.         0.       168.5      ...   0.         0.         0.      ]\n",
            "  [  0.         0.         8.75001  ...   0.         0.         0.      ]\n",
            "  [  0.         0.         0.       ...   0.         0.         0.      ]]\n",
            "\n",
            " [[  0.         0.         0.       ...   0.         0.         0.      ]\n",
            "  [  0.         0.         0.       ...   0.         0.         0.      ]\n",
            "  [  0.        65.79998    0.       ... 165.75       0.         0.      ]\n",
            "  ...\n",
            "  [  0.         0.         0.       ...   0.         0.         0.      ]\n",
            "  [  0.         0.         0.       ...   0.         0.         0.      ]\n",
            "  [  0.         0.         0.       ...   0.         0.         0.      ]]\n",
            "\n",
            " ...\n",
            "\n",
            " [[  0.         0.         0.       ...   0.         0.         0.      ]\n",
            "  [  0.         0.         0.       ...   0.         0.         0.      ]\n",
            "  [  0.         0.         0.       ... 165.75      61.450027   0.      ]\n",
            "  ...\n",
            "  [  0.         0.         0.       ...   0.         0.         0.      ]\n",
            "  [  0.         0.       195.75012  ...   0.         0.         0.      ]\n",
            "  [  0.         0.         0.       ...   0.         0.         0.      ]]\n",
            "\n",
            " [[  0.         0.         0.       ...   0.         0.         0.      ]\n",
            "  [  0.         0.         0.       ...  36.150017   0.         0.      ]\n",
            "  [  0.         0.         0.       ...   0.         0.         0.      ]\n",
            "  ...\n",
            "  [  0.         0.       136.       ...   0.         0.         0.      ]\n",
            "  [  0.         0.         0.       ...   0.         0.         0.      ]\n",
            "  [  0.         0.         0.       ...   0.         0.         0.      ]]\n",
            "\n",
            " [[  0.         0.         0.       ...   0.         0.         0.      ]\n",
            "  [  0.         0.         0.       ...   0.         0.         0.      ]\n",
            "  [  0.         0.         0.       ...   6.75       0.         0.      ]\n",
            "  ...\n",
            "  [  0.         0.       167.75     ...   0.         0.         0.      ]\n",
            "  [  0.         0.       100.20007  ...   0.         0.         0.      ]\n",
            "  [  0.         0.         0.       ...   0.         0.         0.      ]]]\n"
          ]
        }
      ]
    }
  ]
}