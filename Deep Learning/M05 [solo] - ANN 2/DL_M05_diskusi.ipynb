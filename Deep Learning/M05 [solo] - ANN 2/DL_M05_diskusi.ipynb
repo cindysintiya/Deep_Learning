{
  "cells": [
    {
      "cell_type": "markdown",
      "metadata": {
        "id": "UajInYrimkA9"
      },
      "source": [
        "# **ANN with 1 Hidden Layer and 2 Neurons**"
      ]
    },
    {
      "cell_type": "code",
      "execution_count": null,
      "metadata": {
        "id": "nZugufhOl31v"
      },
      "outputs": [],
      "source": [
        "import numpy\n",
        "import matplotlib.pyplot as plt  # Import matplotlib untuk menampilkan diagram\n",
        "\n",
        "def sigmoid(sop):\n",
        "    return 1.0 / (1 + numpy.exp(-1 * sop))\n",
        "\n",
        "def error(predicted, target):\n",
        "    return numpy.power(predicted - target, 2)\n",
        "\n",
        "def error_predicted_deriv(predicted, target):\n",
        "    return 2 * (predicted - target)\n",
        "\n",
        "def sigmoid_sop_deriv(sop):\n",
        "    return sigmoid(sop) * (1.0 - sigmoid(sop))\n",
        "\n",
        "def sop_w_deriv(x):\n",
        "    return x\n",
        "\n",
        "def update_w(w, grad, learning_rate):\n",
        "    return w - learning_rate * grad"
      ]
    },
    {
      "cell_type": "code",
      "execution_count": null,
      "metadata": {
        "id": "umCjNc4kO138"
      },
      "outputs": [],
      "source": [
        "# Input dan target\n",
        "x = numpy.array([0.1, 0.4, 4.1])\n",
        "target = numpy.array([0.2])\n",
        "\n",
        "learning_rate = 0.001"
      ]
    },
    {
      "cell_type": "code",
      "execution_count": null,
      "metadata": {
        "colab": {
          "base_uri": "https://localhost:8080/"
        },
        "id": "i3G4Vtr9O4Q7",
        "outputId": "6b0fd97e-ce16-4893-decb-5b6cf2505300"
      },
      "outputs": [
        {
          "name": "stdout",
          "output_type": "stream",
          "text": [
            "Initial W :  [0.37422808 0.49603531 0.4545478 ] [0.38946909 0.68341911 0.0944452 ] [0.48181455 0.99035608]\n"
          ]
        }
      ],
      "source": [
        "# Inisialisasi bobot secara acak\n",
        "w1_3 = numpy.random.rand(3)\n",
        "w2_3 = numpy.random.rand(3)\n",
        "w3_2 = numpy.random.rand(2)\n",
        "w3_2_old = w3_2\n",
        "print(\"Initial W : \", w1_3, w2_3, w3_2)"
      ]
    },
    {
      "cell_type": "code",
      "execution_count": null,
      "metadata": {
        "id": "dwHc9Ak5O7ek"
      },
      "outputs": [],
      "source": [
        "error_history = []  # List untuk menyimpan error di setiap iterasi"
      ]
    },
    {
      "cell_type": "code",
      "execution_count": null,
      "metadata": {
        "colab": {
          "base_uri": "https://localhost:8080/"
        },
        "id": "0CKl02HyO91l",
        "outputId": "f8787dcd-e729-4017-ed70-0b6965078b62"
      },
      "outputs": [
        {
          "name": "stdout",
          "output_type": "stream",
          "text": [
            "Final predicted: 0.35422025522398776\n"
          ]
        }
      ],
      "source": [
        "# Training loop\n",
        "for epoch in range(10000):  # Ubah iterasi sesuai kebutuhan\n",
        "    # Forward Pass\n",
        "    # Hidden Layer Calculations\n",
        "    sop1 = numpy.sum(w1_3 * x)\n",
        "    sop2 = numpy.sum(w2_3 * x)\n",
        "\n",
        "    sig1 = sigmoid(sop1)\n",
        "    sig2 = sigmoid(sop2)\n",
        "\n",
        "    # Output Layer Calculations\n",
        "    sop3 = numpy.sum(w3_2 * numpy.array([sig1, sig2]))\n",
        "\n",
        "    predicted = sigmoid(sop3)\n",
        "    err = error(predicted, target)\n",
        "\n",
        "    # Simpan nilai error ke dalam list\n",
        "    error_history.append(err)\n",
        "\n",
        "    # Backward Pass\n",
        "    g1 = error_predicted_deriv(predicted, target)\n",
        "\n",
        "    ### Menghitung gradien antara hidden dan output layer\n",
        "    g2 = sigmoid_sop_deriv(sop3)\n",
        "\n",
        "    g3 = numpy.zeros(w3_2.shape[0])\n",
        "    g3[0] = sop_w_deriv(sig1)\n",
        "    g3[1] = sop_w_deriv(sig2)\n",
        "    grad_hidden_output = g3 * g2 * g1\n",
        "\n",
        "    w3_2 = update_w(w3_2, grad_hidden_output, learning_rate)\n",
        "\n",
        "    ### Menghitung gradien antara input dan hidden layer\n",
        "    # Neuron Hidden Pertama\n",
        "    g3 = sop_w_deriv(w3_2_old[0])\n",
        "    g4 = sigmoid_sop_deriv(sop1)\n",
        "\n",
        "    g5 = sop_w_deriv(x)\n",
        "\n",
        "    grad_hidden1_input = g5 * g4 * g3 * g2 * g1\n",
        "\n",
        "    w1_3 = update_w(w1_3, grad_hidden1_input, learning_rate)\n",
        "\n",
        "    # Neuron Hidden Kedua\n",
        "    g3 = sop_w_deriv(w3_2_old[1])\n",
        "    g4 = sigmoid_sop_deriv(sop2)\n",
        "\n",
        "    g5 = sop_w_deriv(x)\n",
        "\n",
        "    grad_hidden2_input = g5 * g4 * g3 * g2 * g1\n",
        "\n",
        "    w2_3 = update_w(w2_3, grad_hidden2_input, learning_rate)\n",
        "\n",
        "    w3_2_old = w3_2\n",
        "\n",
        "print(\"Final predicted:\", predicted)"
      ]
    },
    {
      "cell_type": "code",
      "execution_count": null,
      "metadata": {
        "colab": {
          "base_uri": "https://localhost:8080/",
          "height": 472
        },
        "id": "RSIUi6jYPBDj",
        "outputId": "513029a1-14f6-4030-fc1c-cfe086fc907f"
      },
      "outputs": [
        {
          "data": {
            "image/png": "[encoded data removed]",
            "text/plain": [
              "<Figure size 640x480 with 1 Axes>"
            ]
          },
          "metadata": {},
          "output_type": "display_data"
        }
      ],
      "source": [
        "# Tampilkan diagram error\n",
        "plt.plot(error_history)\n",
        "plt.xlabel('Iteration')\n",
        "plt.ylabel('Error')\n",
        "plt.title('Error vs. Iteration')\n",
        "plt.show()"
      ]
    },
    {
      "cell_type": "code",
      "execution_count": null,
      "metadata": {
        "id": "eyME5tYptD-F"
      },
      "outputs": [],
      "source": []
    },
    {
      "cell_type": "markdown",
      "metadata": {
        "id": "M3ahGQi7ntQx"
      },
      "source": [
        "# **Complete Code**"
      ]
    },
    {
      "cell_type": "code",
      "execution_count": null,
      "metadata": {
        "id": "EPXmEGWopPeF"
      },
      "outputs": [],
      "source": [
        "import matplotlib.pyplot as plt  # Tambahkan ini untuk visualisasi\n",
        "import numpy\n",
        "\n",
        "def sigmoid(sop):\n",
        "    return 1.0 / (1 + numpy.exp(-1 * sop))\n",
        "\n",
        "def error(predicted, target):\n",
        "    return numpy.power(predicted - target, 2)\n",
        "\n",
        "def error_predicted_deriv(predicted, target):\n",
        "    return 2 * (predicted - target)\n",
        "\n",
        "def sigmoid_sop_deriv(sop):\n",
        "    return sigmoid(sop) * (1.0 - sigmoid(sop))\n",
        "\n",
        "def sop_w_deriv(x):\n",
        "    return x\n",
        "\n",
        "def update_w(w, grad, learning_rate):\n",
        "    return w - learning_rate * grad"
      ]
    },
    {
      "cell_type": "code",
      "execution_count": null,
      "metadata": {
        "colab": {
          "base_uri": "https://localhost:8080/"
        },
        "id": "qAJCPuzZS7Rr",
        "outputId": "3d87d640-6b30-4089-a79f-3dabaa2d4526"
      },
      "outputs": [
        {
          "name": "stdout",
          "output_type": "stream",
          "text": [
            "Initial w1_3, w2_3, w3_2 [0.51580281 0.18051019 0.46219592] [0.13744196 0.87406094 0.84963328] [0.93877524 0.37629677]\n"
          ]
        }
      ],
      "source": [
        "x = numpy.array([0.1, 0.4, 4.1])\n",
        "target = numpy.array([0.2])\n",
        "\n",
        "learning_rate = 0.001\n",
        "\n",
        "w1_3 = numpy.random.rand(3)\n",
        "w2_3 = numpy.random.rand(3)\n",
        "w3_2 = numpy.random.rand(2)\n",
        "w3_2_old = w3_2\n",
        "print('Initial w1_3, w2_3, w3_2', w1_3, w2_3, w3_2)"
      ]
    },
    {
      "cell_type": "code",
      "execution_count": null,
      "metadata": {
        "id": "xyjb3nqwS-cq"
      },
      "outputs": [],
      "source": [
        "error_history = []  # Untuk menyimpan sejarah error selama training"
      ]
    },
    {
      "cell_type": "code",
      "execution_count": null,
      "metadata": {
        "colab": {
          "base_uri": "https://localhost:8080/"
        },
        "id": "j0iboTnYTA7l",
        "outputId": "1c8de7a7-06cc-42b2-92b6-07f86f7c007e"
      },
      "outputs": [
        {
          "name": "stdout",
          "output_type": "stream",
          "text": [
            "0.20163765310875856\n"
          ]
        }
      ],
      "source": [
        "for k in range(60000):\n",
        "    # Random Passes\n",
        "    # Hidden Layer calculations\n",
        "    sop1 = numpy.sum(w1_3 * x)\n",
        "    sop2 = numpy.sum(w2_3 * x)\n",
        "\n",
        "    sig1 = sigmoid(sop1)\n",
        "    sig2 = sigmoid(sop2)\n",
        "\n",
        "    # Output Layer calculations\n",
        "    sop3 = numpy.sum(w3_2 * numpy.array([sig1, sig2]))\n",
        "\n",
        "    predicted = sigmoid(sop3)\n",
        "\n",
        "    err = error(predicted, target)\n",
        "    error_history.append(err)  # Simpan error di setiap iterasi\n",
        "\n",
        "    # Backward Pass\n",
        "    g1 = error_predicted_deriv(predicted, target)\n",
        "\n",
        "    ### Working with weights between hidden and output layer\n",
        "    g2 = sigmoid_sop_deriv(sop3)\n",
        "    g3 = numpy.zeros(w3_2.shape[0])\n",
        "    g3[0] = sop_w_deriv(sig1)\n",
        "    g3[1] = sop_w_deriv(sig2)\n",
        "\n",
        "    grad_hidden_output = g3 * g2 * g1\n",
        "\n",
        "    w3_2 = update_w(w3_2, grad_hidden_output, learning_rate)\n",
        "\n",
        "    ### Working with weights between input and hidden layer\n",
        "    # First Hidden Neuron\n",
        "    g3 = sop_w_deriv(w3_2_old[0])\n",
        "    g4 = sigmoid_sop_deriv(sop1)\n",
        "\n",
        "    g5 = sop_w_deriv(x)\n",
        "\n",
        "    grad_hidden1_input = g5 * g4 * g3 * g2 * g1\n",
        "\n",
        "    w1_3 = update_w(w1_3, grad_hidden1_input, learning_rate)\n",
        "\n",
        "    # Second Hidden Neuron\n",
        "    g3 = sop_w_deriv(w3_2_old[1])\n",
        "    g4 = sigmoid_sop_deriv(sop2)\n",
        "\n",
        "    g5 = sop_w_deriv(x)\n",
        "\n",
        "    grad_hidden2_input = g5 * g4 * g3 * g2 * g1\n",
        "    w2_3 = update_w(w2_3, grad_hidden2_input, learning_rate)\n",
        "\n",
        "    w3_2_old = w3_2\n",
        "\n",
        "print(predicted)"
      ]
    },
    {
      "cell_type": "code",
      "execution_count": null,
      "metadata": {
        "colab": {
          "base_uri": "https://localhost:8080/"
        },
        "id": "NAe8xT6tTFQM",
        "outputId": "86e1cfd3-6f67-4f29-c7f2-f80263a256f8"
      },
      "outputs": [
        {
          "data": {
            "image/png": "[encoded data removed]",
            "text/plain": [
              "<Figure size 640x480 with 1 Axes>"
            ]
          },
          "metadata": {},
          "output_type": "display_data"
        }
      ],
      "source": [
        "# Tampilkan diagram error\n",
        "plt.plot(error_history)\n",
        "plt.xlabel('Iteration')\n",
        "plt.ylabel('Error')\n",
        "plt.title('Error vs. Iteration')\n",
        "plt.show()"
      ]
    },
    {
      "cell_type": "markdown",
      "metadata": {
        "id": "Ufvyg0T5qbIx"
      },
      "source": [
        "# **ANN with 1 Hidden Layer and 5 Neurons**"
      ]
    },
    {
      "cell_type": "code",
      "execution_count": null,
      "metadata": {
        "id": "fpEQL7_vqdEz"
      },
      "outputs": [],
      "source": [
        "import numpy\n",
        "import matplotlib.pyplot as plt  # Import matplotlib untuk menampilkan diagram\n",
        "\n",
        "def sigmoid(sop):\n",
        "    return 1.0 / (1 + numpy.exp(-1 * sop))\n",
        "\n",
        "def error(predicted, target):\n",
        "    return numpy.power(predicted - target, 2)\n",
        "\n",
        "def error_predicted_deriv(predicted, target):\n",
        "    return 2 * (predicted - target)\n",
        "\n",
        "def sigmoid_sop_deriv(sop):\n",
        "    return sigmoid(sop) * (1.0 - sigmoid(sop))\n",
        "\n",
        "def sop_w_deriv(x):\n",
        "    return x\n",
        "\n",
        "def update_w(w, grad, learning_rate):\n",
        "    return w - learning_rate * grad"
      ]
    },
    {
      "cell_type": "code",
      "execution_count": null,
      "metadata": {
        "id": "4SldWuyUVDSw"
      },
      "outputs": [],
      "source": [
        "x = numpy.array([0.1, 0.4, 4.1])\n",
        "target = numpy.array([0.2])\n",
        "\n",
        "learning_rate = 0.001"
      ]
    },
    {
      "cell_type": "code",
      "execution_count": null,
      "metadata": {
        "colab": {
          "base_uri": "https://localhost:8080/"
        },
        "id": "EyJqd7tgVHKS",
        "outputId": "8b13f7da-41d3-473f-e66a-b3a5d72f70bf"
      },
      "outputs": [
        {
          "name": "stdout",
          "output_type": "stream",
          "text": [
            "Initial W :  [0.27864738 0.0657679  0.81390114] [0.54120038 0.46696702 0.24325518] [0.06030425 0.26845512 0.5441783 ] [0.79942917 0.10835077 0.4554254 ] [0.98661449 0.95120746 0.38885943] [0.8119204  0.10455756 0.75064084 0.47499918 0.02074697]\n"
          ]
        }
      ],
      "source": [
        "w1_3 = numpy.random.rand(3)\n",
        "w2_3 = numpy.random.rand(3)\n",
        "w3_3 = numpy.random.rand(3)\n",
        "w4_3 = numpy.random.rand(3)\n",
        "w5_3 = numpy.random.rand(3)\n",
        "w6_5 = numpy.random.rand(5)\n",
        "w6_5_old = w6_5\n",
        "print(\"Initial W : \", w1_3, w2_3, w3_3, w4_3, w5_3, w6_5)"
      ]
    },
    {
      "cell_type": "code",
      "execution_count": null,
      "metadata": {
        "id": "QYuW650VVKRF"
      },
      "outputs": [],
      "source": [
        "error_history = []  # List untuk menyimpan error di setiap iterasi"
      ]
    },
    {
      "cell_type": "code",
      "execution_count": null,
      "metadata": {
        "colab": {
          "base_uri": "https://localhost:8080/"
        },
        "id": "__ZANaxpVMtQ",
        "outputId": "602a344a-2b65-468d-b023-ab76c9224540"
      },
      "outputs": [
        {
          "name": "stdout",
          "output_type": "stream",
          "text": [
            "0.2000005507438824\n"
          ]
        }
      ],
      "source": [
        "for k in range(60000):\n",
        "    # Forward Pass\n",
        "    # Hidden Layer Calculations\n",
        "    sop1 = numpy.sum(w1_3 * x)\n",
        "    sop2 = numpy.sum(w2_3 * x)\n",
        "    sop3 = numpy.sum(w3_3 * x)\n",
        "    sop4 = numpy.sum(w4_3 * x)\n",
        "    sop5 = numpy.sum(w5_3 * x)\n",
        "\n",
        "    sig1 = sigmoid(sop1)\n",
        "    sig2 = sigmoid(sop2)\n",
        "    sig3 = sigmoid(sop3)\n",
        "    sig4 = sigmoid(sop4)\n",
        "    sig5 = sigmoid(sop5)\n",
        "\n",
        "    # Output Layer Calculations\n",
        "    sop_output = numpy.sum(w6_5 * numpy.array([sig1, sig2, sig3, sig4, sig5]))\n",
        "\n",
        "    predicted = sigmoid(sop_output)\n",
        "    err = error(predicted, target)\n",
        "\n",
        "    error_history.append(err)  # Simpan error di setiap iterasi\n",
        "\n",
        "    # Backward Pass\n",
        "    g1 = error_predicted_deriv(predicted, target)\n",
        "    g2 = sigmoid_sop_deriv(sop_output)\n",
        "\n",
        "    ### Working with weights between hidden and output layer\n",
        "    g3 = numpy.zeros(w6_5.shape[0])\n",
        "    g3[0] = sop_w_deriv(sig1)\n",
        "    g3[1] = sop_w_deriv(sig2)\n",
        "    g3[2] = sop_w_deriv(sig3)\n",
        "    g3[3] = sop_w_deriv(sig4)\n",
        "    g3[4] = sop_w_deriv(sig5)\n",
        "\n",
        "    grad_hidden_output = g3 * g2 * g1\n",
        "\n",
        "    w6_5[0] = update_w(w6_5[0], grad_hidden_output[0], learning_rate)\n",
        "    w6_5[1] = update_w(w6_5[1], grad_hidden_output[1], learning_rate)\n",
        "    w6_5[2] = update_w(w6_5[2], grad_hidden_output[2], learning_rate)\n",
        "    w6_5[3] = update_w(w6_5[3], grad_hidden_output[3], learning_rate)\n",
        "    w6_5[4] = update_w(w6_5[4], grad_hidden_output[4], learning_rate)\n",
        "\n",
        "    ### Working with weights between input and hidden layer\n",
        "    # First Hidden Neuron\n",
        "    g3 = sop_w_deriv(w6_5_old[0])\n",
        "    g4 = sigmoid_sop_deriv(sop1)\n",
        "    g5 = sop_w_deriv(x)\n",
        "\n",
        "    grad_hidden1_input = g5 * g4 * g3 * g2 * g1\n",
        "    w1_3 = update_w(w1_3, grad_hidden1_input, learning_rate)\n",
        "\n",
        "    # Second Hidden Neuron\n",
        "    g3 = sop_w_deriv(w6_5_old[1])\n",
        "    g4 = sigmoid_sop_deriv(sop2)\n",
        "    g5 = sop_w_deriv(x)\n",
        "\n",
        "    grad_hidden2_input = g5 * g4 * g3 * g2 * g1\n",
        "    w2_3 = update_w(w2_3, grad_hidden2_input, learning_rate)\n",
        "\n",
        "    # Third Hidden Neuron\n",
        "    g3 = sop_w_deriv(w6_5_old[2])\n",
        "    g4 = sigmoid_sop_deriv(sop3)\n",
        "    g5 = sop_w_deriv(x)\n",
        "\n",
        "    grad_hidden3_input = g5 * g4 * g3 * g2 * g1\n",
        "    w3_3 = update_w(w3_3, grad_hidden3_input, learning_rate)\n",
        "\n",
        "    # Fourth Hidden Neuron\n",
        "    g3 = sop_w_deriv(w6_5_old[3])\n",
        "    g4 = sigmoid_sop_deriv(sop4)\n",
        "    g5 = sop_w_deriv(x)\n",
        "\n",
        "    grad_hidden4_input = g5 * g4 * g3 * g2 * g1\n",
        "    w4_3 = update_w(w4_3, grad_hidden4_input, learning_rate)\n",
        "\n",
        "    # Fifth Hidden Neuron\n",
        "    g3 = sop_w_deriv(w6_5_old[4])\n",
        "    g4 = sigmoid_sop_deriv(sop5)\n",
        "    g5 = sop_w_deriv(x)\n",
        "\n",
        "    grad_hidden5_input = g5 * g4 * g3 * g2 * g1\n",
        "    w5_3 = update_w(w5_3, grad_hidden5_input, learning_rate)\n",
        "\n",
        "    w6_5_old = w6_5\n",
        "\n",
        "print(predicted)"
      ]
    },
    {
      "cell_type": "code",
      "execution_count": null,
      "metadata": {
        "colab": {
          "base_uri": "https://localhost:8080/"
        },
        "id": "0RLwduk6VRHf",
        "outputId": "d24711ee-473f-4717-ab63-4fabe5b56ebd"
      },
      "outputs": [
        {
          "data": {
            "image/png": "[encoded data removed]",
            "text/plain": [
              "<Figure size 640x480 with 1 Axes>"
            ]
          },
          "metadata": {},
          "output_type": "display_data"
        }
      ],
      "source": [
        "# Tampilkan diagram error\n",
        "plt.plot(error_history)\n",
        "plt.xlabel('Iteration')\n",
        "plt.ylabel('Error')\n",
        "plt.title('Error vs. Iteration')\n",
        "plt.show()"
      ]
    },
    {
      "cell_type": "markdown",
      "metadata": {
        "id": "M36HBg1gs9qe"
      },
      "source": [
        "# **Any Number of Hidden Neurons in 1 Layer**"
      ]
    },
    {
      "cell_type": "code",
      "execution_count": null,
      "metadata": {
        "id": "ElrLIh6MtHpI"
      },
      "outputs": [],
      "source": [
        "import numpy\n",
        "import matplotlib.pyplot as plt  # Import matplotlib untuk menampilkan diagram\n",
        "\n",
        "def sigmoid(sop):\n",
        "    return 1.0 / (1.0 + numpy.exp(-1 * sop))\n",
        "\n",
        "def error(predicted, target):\n",
        "    return numpy.power(predicted - target, 2)\n",
        "\n",
        "def error_predicted_deriv(predicted, target):\n",
        "    return 2 * (predicted - target)\n",
        "\n",
        "def sigmoid_sop_deriv(sop):\n",
        "    return sigmoid(sop) * (1.0 - sigmoid(sop))\n",
        "\n",
        "def sop_w_deriv(x):\n",
        "    return x\n",
        "\n",
        "def update_w(w, grad, learning_rate):\n",
        "    return w - learning_rate * grad"
      ]
    },
    {
      "cell_type": "code",
      "execution_count": null,
      "metadata": {
        "id": "OFJmV9rtXFXx"
      },
      "outputs": [],
      "source": [
        "x = numpy.array([0.1, 0.4, 4.1])\n",
        "target = numpy.array([0.2])\n",
        "\n",
        "learning_rate = 0.001"
      ]
    },
    {
      "cell_type": "code",
      "execution_count": null,
      "metadata": {
        "id": "vqvPKUw1XH6B"
      },
      "outputs": [],
      "source": [
        "# Network architecture: number of inputs, number of hidden neurons, number of output neurons\n",
        "network_architecture = numpy.array([x.shape[0], 5, 1])"
      ]
    },
    {
      "cell_type": "code",
      "execution_count": null,
      "metadata": {
        "colab": {
          "base_uri": "https://localhost:8080/"
        },
        "id": "iPWvy1OsXL7Z",
        "outputId": "de6aa8f4-eeca-4ea1-ac20-dbd102bd7482"
      },
      "outputs": [
        {
          "name": "stdout",
          "output_type": "stream",
          "text": [
            "Initial W =  [array([[0.80740917, 0.60745339, 0.64367535],\n",
            "       [0.88369037, 0.64555065, 0.83940616],\n",
            "       [0.24553143, 0.61206548, 0.282287  ],\n",
            "       [0.06249154, 0.82650594, 0.16207693],\n",
            "       [0.65588587, 0.63911455, 0.85182293]]), array([[0.45990125, 0.63237459, 0.42519587, 0.53802767, 0.43890157]])]\n"
          ]
        }
      ],
      "source": [
        "# Initialize weights\n",
        "w = []\n",
        "for layer_counter in range(network_architecture.shape[0] - 1):\n",
        "    w_temp = [numpy.random.rand(network_architecture[layer_counter]) for _ in range(network_architecture[layer_counter + 1])]\n",
        "    w.append(numpy.array(w_temp))\n",
        "w_old = w.copy()\n",
        "print(\"Initial W = \", w)"
      ]
    },
    {
      "cell_type": "code",
      "execution_count": null,
      "metadata": {
        "id": "A6RioWn2XPAg"
      },
      "outputs": [],
      "source": [
        "error_history = []  # List untuk menyimpan error di setiap iterasi"
      ]
    },
    {
      "cell_type": "code",
      "execution_count": null,
      "metadata": {
        "id": "6jNDafNQXR01"
      },
      "outputs": [],
      "source": [
        "for k in range(1000):  # Adjust loop range to a smaller number for testing\n",
        "\n",
        "    # Forward Pass - Hidden Layer Calculations\n",
        "    sop_hidden = numpy.matmul(w[0], x)\n",
        "    sig_hidden = sigmoid(sop_hidden)\n",
        "\n",
        "    # Forward Pass - Output Layer Calculations\n",
        "    sop_output = numpy.sum(w[1][0] * sig_hidden)\n",
        "    predicted = sigmoid(sop_output)\n",
        "    err = error(predicted, target)\n",
        "\n",
        "    error_history.append(err)  # Simpan error di setiap iterasi\n",
        "\n",
        "    # Backward Pass\n",
        "    g1 = error_predicted_deriv(predicted, target)\n",
        "\n",
        "    # Update weights between hidden and output layer\n",
        "    g2 = sigmoid_sop_deriv(sop_output)\n",
        "    g3 = sop_w_deriv(sig_hidden)\n",
        "    grad_hidden_output = g3 * g2 * g1\n",
        "    w[1][0] = update_w(w[1][0], grad_hidden_output, learning_rate)\n",
        "\n",
        "    # Update weights between input and hidden layer\n",
        "    g5 = sop_w_deriv(x)\n",
        "    for neuron_idx in range(w[0].shape[0]):\n",
        "        g3 = sop_w_deriv(w_old[1][0][neuron_idx])\n",
        "        g4 = sigmoid_sop_deriv(sop_hidden[neuron_idx])\n",
        "        grad_hidden_input = g5 * g4 * g3 * g2 * g1\n",
        "        w[0][neuron_idx] = update_w(w[0][neuron_idx], grad_hidden_input, learning_rate)\n",
        "\n",
        "    # Copy weights for next iteration\n",
        "    w_old = w.copy()\n",
        "    print(predicted)"
      ]
    },
    {
      "cell_type": "code",
      "execution_count": null,
      "metadata": {
        "colab": {
          "base_uri": "https://localhost:8080/",
          "height": 472
        },
        "id": "YlQXboSvXW3O",
        "outputId": "73cd3bc2-560e-4324-cce7-b349463879d1"
      },
      "outputs": [
        {
          "data": {
            "image/png": "[encoded data removed]",
            "text/plain": [
              "<Figure size 640x480 with 1 Axes>"
            ]
          },
          "metadata": {},
          "output_type": "display_data"
        }
      ],
      "source": [
        "# Tampilkan diagram error\n",
        "plt.plot(error_history)\n",
        "plt.xlabel('Iteration')\n",
        "plt.ylabel('Error')\n",
        "plt.title('Error vs. Iteration')\n",
        "plt.show()"
      ]
    },
    {
      "cell_type": "markdown",
      "metadata": {
        "id": "620cEz6Esg0S"
      },
      "source": [
        "# **Example of ANN Implementation**"
      ]
    },
    {
      "cell_type": "markdown",
      "metadata": {
        "id": "Bi4XJJb1syVk"
      },
      "source": [
        "# **Get Pixel/Discrete Data Using an ANN (Lanjutan Extract Image from Video)**"
      ]
    },
    {
      "cell_type": "code",
      "execution_count": null,
      "metadata": {
        "id": "Ix791BR2sket"
      },
      "outputs": [],
      "source": [
        "import cv2  # Import OpenCV for video processing\n",
        "import numpy as np\n",
        "import os"
      ]
    },
    {
      "cell_type": "code",
      "execution_count": null,
      "metadata": {
        "id": "RJJ12yDOs7Cj"
      },
      "outputs": [],
      "source": [
        "# Sigmoid activation function\n",
        "\n",
        "def sigmoid(x):\n",
        "    return 1.0 / (1 + np.exp(-x))"
      ]
    },
    {
      "cell_type": "code",
      "execution_count": null,
      "metadata": {
        "id": "SL0hIMhFs-XQ"
      },
      "outputs": [],
      "source": [
        "# Function to create and initialize the ANN\n",
        "\n",
        "def create_ann(input_size, hidden_size, output_size):\n",
        "    # Initialize random weights\n",
        "    w_hidden = np.random.rand(hidden_size, input_size)\n",
        "    w_output = np.random.rand(output_size, hidden_size)\n",
        "    return w_hidden, w_output"
      ]
    },
    {
      "cell_type": "code",
      "execution_count": null,
      "metadata": {
        "id": "nbk2knrQtBnN"
      },
      "outputs": [],
      "source": [
        "# Function to process a frame using the ANN\n",
        "\n",
        "def process_frame_with_ann(features, w_hidden, w_output):\n",
        "    # Forward pass through the hidden layer\n",
        "    hidden_input = np.dot(w_hidden, features)\n",
        "    hidden_output = sigmoid(hidden_input)\n",
        "\n",
        "    # Forward pass through the output layer\n",
        "    final_input = np.dot(w_output, hidden_output)\n",
        "    final_output = sigmoid(final_input)\n",
        "\n",
        "    return final_output"
      ]
    },
    {
      "cell_type": "code",
      "execution_count": null,
      "metadata": {
        "id": "d3Z6uI_ZtGLH"
      },
      "outputs": [],
      "source": [
        "# Function to extract frames from a video\n",
        "\n",
        "def extract_frames(video_path, output_dir, frame_skip=30, hidden_size=5, threshold=0.5):\n",
        "    # Create the output directory if it doesn't exist\n",
        "    if not os.path.exists(output_dir):\n",
        "        os.makedirs(output_dir)\n",
        "\n",
        "    # Load the video\n",
        "    cap = cv2.VideoCapture(video_path)\n",
        "    if not cap.isOpened():\n",
        "        print(f\"Error: Could not open video file {video_path}\")\n",
        "        return\n",
        "\n",
        "    frame_count = int(cap.get(cv2.CAP_PROP_FRAME_COUNT))\n",
        "    print(f\"Total frames in video: {frame_count}\")\n",
        "\n",
        "    frame_number = 0\n",
        "    saved_frame_number = 0\n",
        "\n",
        "    # Get input size from the first frame\n",
        "    ret, first_frame = cap.read()\n",
        "    if not ret:\n",
        "        print(\"Error: Could not read the first frame.\")\n",
        "        return\n",
        "\n",
        "    input_size = first_frame.size  # Number of features (flattened pixels)\n",
        "    w_hidden, w_output = create_ann(input_size, hidden_size, 1)\n",
        "\n",
        "    cap.set(cv2.CAP_PROP_POS_FRAMES, 0)  # Reset to the start of the video\n",
        "\n",
        "    while cap.isOpened():\n",
        "        ret, frame = cap.read()\n",
        "        if not ret:\n",
        "            break\n",
        "\n",
        "        # Process every nth frame based on frame_skip\n",
        "        if frame_number % frame_skip == 0:\n",
        "            # Preprocess the frame to extract features (flatten the image for simplicity)\n",
        "            features = frame.flatten() / 255.0  # Normalize the pixel values\n",
        "            predicted = process_frame_with_ann(features, w_hidden, w_output)\n",
        "\n",
        "            # If the ANN output meets the threshold, save the frame\n",
        "            if predicted > threshold:\n",
        "                output_path = os.path.join(output_dir, f\"frame_{saved_frame_number}.jpg\")\n",
        "                cv2.imwrite(output_path, frame)\n",
        "                saved_frame_number += 1\n",
        "\n",
        "        frame_number += 1\n",
        "\n",
        "    cap.release()\n",
        "    print(f\"Total saved frames: {saved_frame_number}\")"
      ]
    },
    {
      "cell_type": "code",
      "execution_count": null,
      "metadata": {
        "colab": {
          "base_uri": "https://localhost:8080/"
        },
        "id": "CHAEXv86tKTQ",
        "outputId": "394fd72f-bc2b-4565-b952-a290d0ad4d5e"
      },
      "outputs": [
        {
          "name": "stdout",
          "output_type": "stream",
          "text": [
            "Total frames in video: 973\n",
            "Total saved frames: 33\n"
          ]
        }
      ],
      "source": [
        "# Example usage\n",
        "\n",
        "video_path = 'crowd.mp4'\n",
        "output_dir = 'extracted_frames_3'\n",
        "extract_frames(video_path, output_dir)"
      ]
    },
    {
      "cell_type": "markdown",
      "metadata": {
        "id": "qlMzjkTji-RN"
      },
      "source": [
        "# **YOLO - Final Submission**"
      ]
    },
    {
      "cell_type": "code",
      "execution_count": null,
      "metadata": {
        "colab": {
          "base_uri": "https://localhost:8080/"
        },
        "id": "fH3ZEXm3i92Z",
        "outputId": "5e64c732-872e-458f-fd69-48fed641097e"
      },
      "outputs": [
        {
          "name": "stdout",
          "output_type": "stream",
          "text": [
            "Processed frame_14.jpg, saved to detected_objects_3/frame_14.jpg\n",
            "Processed frame_12.jpg, saved to detected_objects_3/frame_12.jpg\n",
            "Processed frame_13.jpg, saved to detected_objects_3/frame_13.jpg\n",
            "Processed frame_8.jpg, saved to detected_objects_3/frame_8.jpg\n",
            "Processed frame_30.jpg, saved to detected_objects_3/frame_30.jpg\n",
            "Processed frame_21.jpg, saved to detected_objects_3/frame_21.jpg\n",
            "Processed frame_7.jpg, saved to detected_objects_3/frame_7.jpg\n",
            "Processed frame_15.jpg, saved to detected_objects_3/frame_15.jpg\n",
            "Processed frame_10.jpg, saved to detected_objects_3/frame_10.jpg\n",
            "Processed frame_25.jpg, saved to detected_objects_3/frame_25.jpg\n",
            "Processed frame_31.jpg, saved to detected_objects_3/frame_31.jpg\n",
            "Processed frame_3.jpg, saved to detected_objects_3/frame_3.jpg\n",
            "Processed frame_22.jpg, saved to detected_objects_3/frame_22.jpg\n",
            "Processed frame_0.jpg, saved to detected_objects_3/frame_0.jpg\n",
            "Processed frame_20.jpg, saved to detected_objects_3/frame_20.jpg\n",
            "Processed frame_32.jpg, saved to detected_objects_3/frame_32.jpg\n",
            "Processed frame_18.jpg, saved to detected_objects_3/frame_18.jpg\n",
            "Processed frame_6.jpg, saved to detected_objects_3/frame_6.jpg\n",
            "Processed frame_27.jpg, saved to detected_objects_3/frame_27.jpg\n",
            "Processed frame_24.jpg, saved to detected_objects_3/frame_24.jpg\n",
            "Processed frame_28.jpg, saved to detected_objects_3/frame_28.jpg\n",
            "Processed frame_1.jpg, saved to detected_objects_3/frame_1.jpg\n",
            "Processed frame_23.jpg, saved to detected_objects_3/frame_23.jpg\n",
            "Processed frame_5.jpg, saved to detected_objects_3/frame_5.jpg\n",
            "Processed frame_4.jpg, saved to detected_objects_3/frame_4.jpg\n",
            "Processed frame_19.jpg, saved to detected_objects_3/frame_19.jpg\n",
            "Processed frame_11.jpg, saved to detected_objects_3/frame_11.jpg\n",
            "Processed frame_26.jpg, saved to detected_objects_3/frame_26.jpg\n",
            "Processed frame_29.jpg, saved to detected_objects_3/frame_29.jpg\n",
            "Processed frame_17.jpg, saved to detected_objects_3/frame_17.jpg\n",
            "Processed frame_16.jpg, saved to detected_objects_3/frame_16.jpg\n",
            "Processed frame_9.jpg, saved to detected_objects_3/frame_9.jpg\n",
            "Processed frame_2.jpg, saved to detected_objects_3/frame_2.jpg\n"
          ]
        }
      ],
      "source": [
        "import cv2  # Import OpenCV for image processing\n",
        "import numpy as np\n",
        "import os\n",
        "\n",
        "# Function to load YOLO model\n",
        "def load_yolo_model():\n",
        "    net = cv2.dnn.readNet(\"yolov3.weights\", \"yolov3.cfg\")\n",
        "    layer_names = net.getLayerNames()\n",
        "    output_layers = [layer_names[i - 1] for i in net.getUnconnectedOutLayers()]\n",
        "    return net, output_layers\n",
        "\n",
        "# Function to detect objects in an image using YOLO\n",
        "def detect_objects(image, net, output_layers):\n",
        "    height, width, _ = image.shape\n",
        "    blob = cv2.dnn.blobFromImage(image, 0.00392, (416, 416), (0, 0, 0), True, crop=False)\n",
        "    net.setInput(blob)\n",
        "    outputs = net.forward(output_layers)\n",
        "\n",
        "    class_ids = []\n",
        "    confidences = []\n",
        "    boxes = []\n",
        "\n",
        "    for output in outputs:\n",
        "        for detection in output:\n",
        "            scores = detection[5:]  # The scores for each class\n",
        "            class_id = np.argmax(scores)  # Get the index of the max score\n",
        "            confidence = scores[class_id]  # Get the max score value\n",
        "\n",
        "            if confidence > 0.3:  # You can adjust this threshold\n",
        "                # Object detected\n",
        "                center_x = int(detection[0] * width)\n",
        "                center_y = int(detection[1] * height)\n",
        "                w = int(detection[2] * width)\n",
        "                h = int(detection[3] * height)\n",
        "\n",
        "                # Rectangle coordinates\n",
        "                x = int(center_x - w / 2)\n",
        "                y = int(center_y - h / 2)\n",
        "\n",
        "                boxes.append([x, y, w, h])\n",
        "                confidences.append(float(confidence))\n",
        "                class_ids.append(class_id)\n",
        "\n",
        "    # Apply non-max suppression\n",
        "    indexes = cv2.dnn.NMSBoxes(boxes, confidences, 0.5, 0.4)\n",
        "\n",
        "    detected_objects = []\n",
        "    for i in range(len(boxes)):\n",
        "        if i in indexes:\n",
        "            x, y, w, h = boxes[i]\n",
        "            label = str(classes[class_ids[i]])\n",
        "            detected_objects.append((label, confidences[i], (x, y, w, h)))\n",
        "\n",
        "    return detected_objects\n",
        "\n",
        "# Function to process images from a folder and detect objects\n",
        "def detect_objects_in_images(input_dir, output_dir):\n",
        "    # Load YOLO model\n",
        "    net, output_layers = load_yolo_model()\n",
        "\n",
        "    # Load class names\n",
        "    global classes\n",
        "    with open(\"coco.names\", \"r\") as f:\n",
        "        classes = [line.strip() for line in f.readlines()]\n",
        "\n",
        "    # Create the output directory if it doesn't exist\n",
        "    if not os.path.exists(output_dir):\n",
        "        os.makedirs(output_dir)\n",
        "\n",
        "    # Iterate over all images in the input directory\n",
        "    for filename in os.listdir(input_dir):\n",
        "        if filename.endswith(('.jpg', '.png', '.jpeg')):  # Add other image formats if needed\n",
        "            image_path = os.path.join(input_dir, filename)\n",
        "            image = cv2.imread(image_path)\n",
        "\n",
        "            if image is None:\n",
        "                print(f\"Error: Could not read image {image_path}\")\n",
        "                continue\n",
        "\n",
        "            detected_objects = detect_objects(image, net, output_layers)\n",
        "\n",
        "            # Draw bounding boxes and labels on the image\n",
        "            for label, confidence, (x, y, w, h) in detected_objects:\n",
        "                # Change the rectangle color to red\n",
        "                cv2.rectangle(image, (x, y), (x + w, y + h), (0, 255, 0), 2)  # Red color\n",
        "                cv2.putText(image, f\"{label} {confidence*100:.2f}%\", (x, y - 5), cv2.FONT_HERSHEY_SIMPLEX, 0.5, (0, 255, 0), 2)  # Red color for text\n",
        "\n",
        "\n",
        "            # Save the processed image with detections\n",
        "            output_path = os.path.join(output_dir, filename)\n",
        "            cv2.imwrite(output_path, image)\n",
        "            print(f\"Processed {filename}, saved to {output_path}\")\n",
        "\n",
        "\n",
        "# Example usage\n",
        "input_dir = \"extracted_frames_3\"\n",
        "output_dir = 'detected_objects'  # Directory to save output images\n",
        "detect_objects_in_images(input_dir, output_dir)"
      ]
    }
  ],
  "metadata": {
    "colab": {
      "collapsed_sections": [
        "UajInYrimkA9",
        "M3ahGQi7ntQx",
        "Ufvyg0T5qbIx"
      ],
      "provenance": []
    },
    "kernelspec": {
      "display_name": "Python 3",
      "name": "python3"
    },
    "language_info": {
      "name": "python"
    }
  },
  "nbformat": 4,
  "nbformat_minor": 0
}
