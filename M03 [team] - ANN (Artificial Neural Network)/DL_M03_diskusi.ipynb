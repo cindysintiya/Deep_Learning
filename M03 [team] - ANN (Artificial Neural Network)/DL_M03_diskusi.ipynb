{
  "nbformat": 4,
  "nbformat_minor": 0,
  "metadata": {
    "colab": {
      "provenance": []
    },
    "kernelspec": {
      "name": "python3",
      "display_name": "Python 3"
    },
    "language_info": {
      "name": "python"
    }
  },
  "cells": [
    {
      "cell_type": "code",
      "execution_count": null,
      "metadata": {
        "colab": {
          "base_uri": "https://localhost:8080/",
          "height": 544
        },
        "id": "KqI7oRoKtw_x",
        "outputId": "a8acb63b-edd8-4a61-893b-e55b6ce134d7"
      },
      "outputs": [
        {
          "output_type": "stream",
          "name": "stdout",
          "text": [
            "Initial X :  [0.12 0.8  0.16 0.34 0.91 0.37 0.85 0.61 0.45 0.23 0.99 0.43]\n",
            "Initial W :  [0.20592898 0.29832219 0.40316087 0.04896435 0.53483332 0.72541813\n",
            " 0.88429517 0.54795813 0.30649244 0.05842728 0.91967434 0.84396083]\n",
            "Predicted: 0.30000000000000004\n"
          ]
        },
        {
          "output_type": "display_data",
          "data": {
            "text/plain": [
              "<Figure size 640x480 with 1 Axes>"
            ],
            "image/png": "[encoded data removed]"
          },
          "metadata": {}
        }
      ],
      "source": [
        "import numpy\n",
        "import matplotlib.pyplot as plt\n",
        "\n",
        "def sigmoid(sop):\n",
        "    return 1.0 / (1 + numpy.exp(-1 * sop))\n",
        "\n",
        "def error(predicted, target):\n",
        "    return numpy.power(predicted - target, 2)\n",
        "\n",
        "def error_predicted_deriv(predicted, target):\n",
        "    return 2 * (predicted - target)\n",
        "\n",
        "def sigmoid_sop_deriv(sop):\n",
        "    return sigmoid(sop) * (1.0 - sigmoid(sop))\n",
        "\n",
        "def sop_w_deriv(x):\n",
        "    return x\n",
        "\n",
        "def update_w(w, grad, learning_rate):\n",
        "    return w - learning_rate * grad\n",
        "\n",
        "x = numpy.array([\n",
        "    0.12,\n",
        "    0.80,\n",
        "    0.16,\n",
        "    0.34,\n",
        "    0.91,\n",
        "    0.37,\n",
        "    0.85,\n",
        "    0.61,\n",
        "    0.45,\n",
        "    0.23,\n",
        "    0.99,\n",
        "    0.43,\n",
        "])\n",
        "target = 0.3\n",
        "learning_rate = 0.1\n",
        "w = numpy.random.rand(len(x))\n",
        "print(\"Initial X : \", x)\n",
        "print(\"Initial W : \", w)\n",
        "\n",
        "error_history = []  # List untuk menyimpan error di setiap iterasi\n",
        "iterations = 1000  # Jumlah iterasi yang dilakukan\n",
        "\n",
        "for _ in range(iterations):\n",
        "    # Forward Pass\n",
        "    y = 0\n",
        "    for i in range(len(x)):\n",
        "        y += x[i] * w[i]\n",
        "    predicted = sigmoid(y)\n",
        "    err = error(predicted, target)\n",
        "\n",
        "    # Simpan nilai error ke list\n",
        "    error_history.append(err)\n",
        "\n",
        "    # Backward Pass\n",
        "    g1 = error_predicted_deriv(predicted, target)\n",
        "    g2 = sigmoid_sop_deriv(predicted)\n",
        "\n",
        "    # g3w1 = sop_w_deriv(x1)\n",
        "    # g3w2 = sop_w_deriv(x2)\n",
        "    g3w = [sop_w_deriv(xn) for xn in x]\n",
        "\n",
        "    # gradw1 = g3w1 * g2 * g1\n",
        "    # gradw2 = g3w2 * g2 * g1\n",
        "    gradw = [g3w[i] * g2 * g1 for i in range(len(g3w))]\n",
        "\n",
        "    # w1 = update_w(w1, gradw1, learning_rate)\n",
        "    # w2 = update_w(w2, gradw2, learning_rate)\n",
        "    w = [update_w(w[i], gradw[i], learning_rate) for i in range(len(w))]\n",
        "\n",
        "print(\"Predicted:\", predicted)\n",
        "\n",
        "# Tampilkan diagram error\n",
        "plt.plot(error_history)\n",
        "plt.xlabel('Iteration')\n",
        "plt.ylabel('Error')\n",
        "plt.title('Error vs. Iteration')\n",
        "plt.show()"
      ]
    }
  ]
}